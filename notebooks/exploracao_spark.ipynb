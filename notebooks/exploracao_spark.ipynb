{
 "cells": [
  {
   "cell_type": "code",
   "execution_count": 1,
   "metadata": {},
   "outputs": [],
   "source": [
    "from pyspark.sql import SparkSession"
   ]
  },
  {
   "cell_type": "code",
   "execution_count": 2,
   "metadata": {},
   "outputs": [
    {
     "data": {
      "text/html": [
       "\n",
       "            <div>\n",
       "                <p><b>SparkSession - in-memory</b></p>\n",
       "                \n",
       "        <div>\n",
       "            <p><b>SparkContext</b></p>\n",
       "\n",
       "            <p><a href=\"http://0fd9ce7f0095:4041\">Spark UI</a></p>\n",
       "\n",
       "            <dl>\n",
       "              <dt>Version</dt>\n",
       "                <dd><code>v3.3.3</code></dd>\n",
       "              <dt>Master</dt>\n",
       "                <dd><code>spark://spark-master:7077</code></dd>\n",
       "              <dt>AppName</dt>\n",
       "                <dd><code>twitter_transformation</code></dd>\n",
       "            </dl>\n",
       "        </div>\n",
       "        \n",
       "            </div>\n",
       "        "
      ],
      "text/plain": [
       "<pyspark.sql.session.SparkSession at 0x7f7cb9a94dc0>"
      ]
     },
     "execution_count": 2,
     "metadata": {},
     "output_type": "execute_result"
    }
   ],
   "source": [
    "spark = SparkSession\\\n",
    "    .builder\\\n",
    "    .master('spark://spark-master:7077')\\\n",
    "    .appName('twitter_transformation')\\\n",
    "    .getOrCreate()\n",
    "spark"
   ]
  },
  {
   "cell_type": "code",
   "execution_count": 4,
   "metadata": {},
   "outputs": [
    {
     "data": {
      "text/html": [
       "<div>\n",
       "<style scoped>\n",
       "    .dataframe tbody tr th:only-of-type {\n",
       "        vertical-align: middle;\n",
       "    }\n",
       "\n",
       "    .dataframe tbody tr th {\n",
       "        vertical-align: top;\n",
       "    }\n",
       "\n",
       "    .dataframe thead th {\n",
       "        text-align: right;\n",
       "    }\n",
       "</style>\n",
       "<table border=\"1\" class=\"dataframe\">\n",
       "  <thead>\n",
       "    <tr style=\"text-align: right;\">\n",
       "      <th></th>\n",
       "      <th>data</th>\n",
       "      <th>includes</th>\n",
       "      <th>meta</th>\n",
       "      <th>extract_date</th>\n",
       "    </tr>\n",
       "  </thead>\n",
       "  <tbody>\n",
       "    <tr>\n",
       "      <th>0</th>\n",
       "      <td>[(17, 55, 2023-11-07T04:32:10.781548+0000, [34...</td>\n",
       "      <td>([(2023-11-07T05:12:03.007567+0000, 45, User 1...</td>\n",
       "      <td>(1234567890abcdef,)</td>\n",
       "      <td>2023-11-07</td>\n",
       "    </tr>\n",
       "    <tr>\n",
       "      <th>1</th>\n",
       "      <td>[(78, 35, 2023-11-10T21:24:44.937176+0000, [68...</td>\n",
       "      <td>([(2023-11-10T15:35:12.605861+0000, 26, User 1...</td>\n",
       "      <td>(1234567890abcdef,)</td>\n",
       "      <td>2023-11-10</td>\n",
       "    </tr>\n",
       "    <tr>\n",
       "      <th>2</th>\n",
       "      <td>[(45, 36, 2023-11-06T00:41:17.611815+0000, [77...</td>\n",
       "      <td>([(2023-11-06T16:15:34.102194+0000, 83, User 1...</td>\n",
       "      <td>(1234567890abcdef,)</td>\n",
       "      <td>2023-11-06</td>\n",
       "    </tr>\n",
       "    <tr>\n",
       "      <th>3</th>\n",
       "      <td>[(63, 99, 2023-11-09T20:25:48.937182+0000, [14...</td>\n",
       "      <td>([(2023-11-09T12:32:56.257276+0000, 99, User 1...</td>\n",
       "      <td>None</td>\n",
       "      <td>2023-11-09</td>\n",
       "    </tr>\n",
       "    <tr>\n",
       "      <th>4</th>\n",
       "      <td>[(76, 62, 2023-11-08T05:33:31.208387+0000, [85...</td>\n",
       "      <td>([(2023-11-08T06:09:40.772983+0000, 47, User 1...</td>\n",
       "      <td>None</td>\n",
       "      <td>2023-11-08</td>\n",
       "    </tr>\n",
       "  </tbody>\n",
       "</table>\n",
       "</div>"
      ],
      "text/plain": [
       "                                                data  \\\n",
       "0  [(17, 55, 2023-11-07T04:32:10.781548+0000, [34...   \n",
       "1  [(78, 35, 2023-11-10T21:24:44.937176+0000, [68...   \n",
       "2  [(45, 36, 2023-11-06T00:41:17.611815+0000, [77...   \n",
       "3  [(63, 99, 2023-11-09T20:25:48.937182+0000, [14...   \n",
       "4  [(76, 62, 2023-11-08T05:33:31.208387+0000, [85...   \n",
       "\n",
       "                                            includes                 meta  \\\n",
       "0  ([(2023-11-07T05:12:03.007567+0000, 45, User 1...  (1234567890abcdef,)   \n",
       "1  ([(2023-11-10T15:35:12.605861+0000, 26, User 1...  (1234567890abcdef,)   \n",
       "2  ([(2023-11-06T16:15:34.102194+0000, 83, User 1...  (1234567890abcdef,)   \n",
       "3  ([(2023-11-09T12:32:56.257276+0000, 99, User 1...                 None   \n",
       "4  ([(2023-11-08T06:09:40.772983+0000, 47, User 1...                 None   \n",
       "\n",
       "  extract_date  \n",
       "0   2023-11-07  \n",
       "1   2023-11-10  \n",
       "2   2023-11-06  \n",
       "3   2023-11-09  \n",
       "4   2023-11-08  "
      ]
     },
     "execution_count": 4,
     "metadata": {},
     "output_type": "execute_result"
    }
   ],
   "source": [
    "df = spark.read.json('s3a://datalake/bronze/twitter_datascience')\n",
    "df.toPandas()"
   ]
  },
  {
   "cell_type": "code",
   "execution_count": 15,
   "metadata": {},
   "outputs": [
    {
     "name": "stdout",
     "output_type": "stream",
     "text": [
      "root\n",
      " |-- data: array (nullable = true)\n",
      " |    |-- element: struct (containsNull = true)\n",
      " |    |    |-- author_id: string (nullable = true)\n",
      " |    |    |-- conversation_id: string (nullable = true)\n",
      " |    |    |-- created_at: string (nullable = true)\n",
      " |    |    |-- edit_history_tweet_ids: array (nullable = true)\n",
      " |    |    |    |-- element: long (containsNull = true)\n",
      " |    |    |-- id: string (nullable = true)\n",
      " |    |    |-- in_reply_to_user_id: string (nullable = true)\n",
      " |    |    |-- lang: string (nullable = true)\n",
      " |    |    |-- public_metrics: struct (nullable = true)\n",
      " |    |    |    |-- like_count: long (nullable = true)\n",
      " |    |    |    |-- quote_count: long (nullable = true)\n",
      " |    |    |    |-- reply_count: long (nullable = true)\n",
      " |    |    |    |-- retweet_count: long (nullable = true)\n",
      " |    |    |-- text: string (nullable = true)\n",
      " |-- includes: struct (nullable = true)\n",
      " |    |-- users: array (nullable = true)\n",
      " |    |    |-- element: struct (containsNull = true)\n",
      " |    |    |    |-- created_at: string (nullable = true)\n",
      " |    |    |    |-- id: string (nullable = true)\n",
      " |    |    |    |-- name: string (nullable = true)\n",
      " |    |    |    |-- username: string (nullable = true)\n",
      " |-- meta: struct (nullable = true)\n",
      " |    |-- next_token: string (nullable = true)\n",
      " |-- extract_date: date (nullable = true)\n",
      "\n"
     ]
    }
   ],
   "source": [
    "df.printSchema()"
   ]
  },
  {
   "cell_type": "code",
   "execution_count": 6,
   "metadata": {},
   "outputs": [],
   "source": [
    "from pyspark.sql import functions as f"
   ]
  },
  {
   "cell_type": "code",
   "execution_count": null,
   "metadata": {},
   "outputs": [],
   "source": [
    "df.select(f.explode(\"data\")).printSchema()"
   ]
  },
  {
   "cell_type": "code",
   "execution_count": null,
   "metadata": {},
   "outputs": [],
   "source": [
    "df.select(f.explode(\"data\")).show()"
   ]
  },
  {
   "cell_type": "code",
   "execution_count": null,
   "metadata": {},
   "outputs": [],
   "source": [
    "df.select(f.explode(\"data\").alias(\"tweets\"))\\\n",
    ".select(\"tweets.author_id\", \"tweets.conversation_id\",\n",
    "        \"tweets.created_at\", \"tweets.id\",\n",
    "        \"tweets.public_metrics.*\", \"tweets.text\").printSchema()"
   ]
  },
  {
   "cell_type": "code",
   "execution_count": 11,
   "metadata": {},
   "outputs": [
    {
     "name": "stdout",
     "output_type": "stream",
     "text": [
      "+---------+---------------+--------------------+---+----------+-----------+-----------+-------------+--------------------+\n",
      "|author_id|conversation_id|          created_at| id|like_count|quote_count|reply_count|retweet_count|                text|\n",
      "+---------+---------------+--------------------+---+----------+-----------+-----------+-------------+--------------------+\n",
      "|       17|             55|2023-11-07T04:32:...| 52|        52|         38|         51|           33|Este é um tweet f...|\n",
      "|       34|             82|2023-11-07T01:29:...| 71|        12|         18|         24|           61|Outro tweet fictí...|\n",
      "|       53|              0|2023-11-07T22:55:...| 24|         0|         17|         43|           41|Um terceiro tweet...|\n",
      "|       77|             29|2023-11-07T18:23:...| 98|        69|         24|         24|           48|Tweet fictício ge...|\n",
      "|       35|             40|2023-11-07T23:05:...| 25|        67|         39|          5|           73|Tweet fictício cr...|\n",
      "|       45|             41|2023-11-07T12:57:...| 12|         8|          2|         88|           88|Um terceiro tweet...|\n",
      "|        6|             88|2023-11-07T20:47:...| 59|        15|         96|         39|            0|Um terceiro tweet...|\n",
      "|       92|             26|2023-11-07T07:07:...| 59|        57|         86|         97|           10|Um terceiro tweet...|\n",
      "|       51|             76|2023-11-07T19:21:...| 90|        14|         54|         44|            7|Tweet fictício cr...|\n",
      "|       29|             49|2023-11-07T15:09:...| 71|        78|         50|         90|           47|Outro tweet fictí...|\n",
      "|       78|             35|2023-11-10T21:24:...| 12|        10|         94|          0|           12|Outro tweet fictí...|\n",
      "|       44|             71|2023-11-10T13:49:...| 48|        58|         94|         79|           42|Tweet fictício cr...|\n",
      "|       16|             87|2023-11-10T23:43:...| 10|        32|         54|         19|           79|Um terceiro tweet...|\n",
      "|       45|             37|2023-11-10T10:54:...| 12|        58|         79|         41|           43|Tweet fictício cr...|\n",
      "|       16|             94|2023-11-10T16:56:...| 71|        87|         71|         91|           92|Tweet fictício ge...|\n",
      "|       38|             38|2023-11-10T00:44:...| 47|        21|         18|          4|           76|Tweet fictício ge...|\n",
      "|        0|             11|2023-11-10T02:00:...| 36|        17|         82|         28|           89|Tweet fictício ge...|\n",
      "|      100|             27|2023-11-10T14:31:...| 53|        99|         66|         62|           87|Outro tweet fictí...|\n",
      "|       96|             37|2023-11-10T18:45:...| 27|        94|         63|         95|           37|Tweet fictício ge...|\n",
      "|      100|             15|2023-11-10T17:44:...| 78|        95|         76|         78|           53|Outro tweet fictí...|\n",
      "+---------+---------------+--------------------+---+----------+-----------+-----------+-------------+--------------------+\n",
      "only showing top 20 rows\n",
      "\n"
     ]
    }
   ],
   "source": [
    "tweet_df = df.select(f.explode(\"data\").alias(\"tweets\"))\\\n",
    "  .select(\"tweets.author_id\", \"tweets.conversation_id\",\n",
    "        \"tweets.created_at\", \"tweets.id\",\n",
    "        \"tweets.public_metrics.*\", \"tweets.text\")\n",
    "\n",
    "tweet_df.show()\n"
   ]
  },
  {
   "cell_type": "code",
   "execution_count": 14,
   "metadata": {},
   "outputs": [
    {
     "name": "stdout",
     "output_type": "stream",
     "text": [
      "+---------+---------------+--------------------+---+----------+-----------+-----------+-------------+--------------------+------------+\n",
      "|author_id|conversation_id|          created_at| id|like_count|quote_count|reply_count|retweet_count|                text|process_date|\n",
      "+---------+---------------+--------------------+---+----------+-----------+-----------+-------------+--------------------+------------+\n",
      "|       17|             55|2023-11-07T04:32:...| 52|        52|         38|         51|           33|Este é um tweet f...|  2023-11-11|\n",
      "|       34|             82|2023-11-07T01:29:...| 71|        12|         18|         24|           61|Outro tweet fictí...|  2023-11-11|\n",
      "|       53|              0|2023-11-07T22:55:...| 24|         0|         17|         43|           41|Um terceiro tweet...|  2023-11-11|\n",
      "|       77|             29|2023-11-07T18:23:...| 98|        69|         24|         24|           48|Tweet fictício ge...|  2023-11-11|\n",
      "|       35|             40|2023-11-07T23:05:...| 25|        67|         39|          5|           73|Tweet fictício cr...|  2023-11-11|\n",
      "|       45|             41|2023-11-07T12:57:...| 12|         8|          2|         88|           88|Um terceiro tweet...|  2023-11-11|\n",
      "|        6|             88|2023-11-07T20:47:...| 59|        15|         96|         39|            0|Um terceiro tweet...|  2023-11-11|\n",
      "|       92|             26|2023-11-07T07:07:...| 59|        57|         86|         97|           10|Um terceiro tweet...|  2023-11-11|\n",
      "|       51|             76|2023-11-07T19:21:...| 90|        14|         54|         44|            7|Tweet fictício cr...|  2023-11-11|\n",
      "|       29|             49|2023-11-07T15:09:...| 71|        78|         50|         90|           47|Outro tweet fictí...|  2023-11-11|\n",
      "|       78|             35|2023-11-10T21:24:...| 12|        10|         94|          0|           12|Outro tweet fictí...|  2023-11-11|\n",
      "|       44|             71|2023-11-10T13:49:...| 48|        58|         94|         79|           42|Tweet fictício cr...|  2023-11-11|\n",
      "|       16|             87|2023-11-10T23:43:...| 10|        32|         54|         19|           79|Um terceiro tweet...|  2023-11-11|\n",
      "|       45|             37|2023-11-10T10:54:...| 12|        58|         79|         41|           43|Tweet fictício cr...|  2023-11-11|\n",
      "|       16|             94|2023-11-10T16:56:...| 71|        87|         71|         91|           92|Tweet fictício ge...|  2023-11-11|\n",
      "|       38|             38|2023-11-10T00:44:...| 47|        21|         18|          4|           76|Tweet fictício ge...|  2023-11-11|\n",
      "|        0|             11|2023-11-10T02:00:...| 36|        17|         82|         28|           89|Tweet fictício ge...|  2023-11-11|\n",
      "|      100|             27|2023-11-10T14:31:...| 53|        99|         66|         62|           87|Outro tweet fictí...|  2023-11-11|\n",
      "|       96|             37|2023-11-10T18:45:...| 27|        94|         63|         95|           37|Tweet fictício ge...|  2023-11-11|\n",
      "|      100|             15|2023-11-10T17:44:...| 78|        95|         76|         78|           53|Outro tweet fictí...|  2023-11-11|\n",
      "+---------+---------------+--------------------+---+----------+-----------+-----------+-------------+--------------------+------------+\n",
      "only showing top 20 rows\n",
      "\n"
     ]
    }
   ],
   "source": [
    "process_date = '2023-11-11'\n",
    "tweet_df = tweet_df.withColumn('process_date', f.to_date(f.lit(process_date)))\n",
    "tweet_df.show()"
   ]
  },
  {
   "cell_type": "code",
   "execution_count": null,
   "metadata": {},
   "outputs": [],
   "source": [
    "tweet_df.show(5)"
   ]
  },
  {
   "cell_type": "code",
   "execution_count": null,
   "metadata": {},
   "outputs": [],
   "source": [
    "df.select(f.explode('includes.users'))"
   ]
  },
  {
   "cell_type": "code",
   "execution_count": null,
   "metadata": {},
   "outputs": [],
   "source": [
    "users = df.select(f.explode(\"includes.users\").alias(\"users\")).select(\"users.*\").printSchema()"
   ]
  },
  {
   "cell_type": "code",
   "execution_count": null,
   "metadata": {},
   "outputs": [],
   "source": [
    "users.show(5)"
   ]
  },
  {
   "cell_type": "code",
   "execution_count": null,
   "metadata": {},
   "outputs": [],
   "source": []
  }
 ],
 "metadata": {
  "kernelspec": {
   "display_name": "Python 3 (ipykernel)",
   "language": "python",
   "name": "python3"
  },
  "language_info": {
   "codemirror_mode": {
    "name": "ipython",
    "version": 3
   },
   "file_extension": ".py",
   "mimetype": "text/x-python",
   "name": "python",
   "nbconvert_exporter": "python",
   "pygments_lexer": "ipython3",
   "version": "3.8.13"
  }
 },
 "nbformat": 4,
 "nbformat_minor": 2
}
